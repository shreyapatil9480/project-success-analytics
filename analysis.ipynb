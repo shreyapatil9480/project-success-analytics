{
 "cells": [
  {
   "cell_type": "markdown",
   "id": "578b2635",
   "metadata": {},
   "source": [
    "\n",
    "# Project Success Analysis\n",
    "\n",
    "This notebook demonstrates an exploratory and predictive analysis on a synthetic project management dataset. The dataset contains 200 hypothetical projects with attributes like budget, cost, estimated and actual durations, team size, complexity, customer satisfaction and success indicators.\n",
    "\n",
    "We will:\n",
    "\n",
    "1. Perform exploratory data analysis (EDA) with summary statistics and visualizations to understand the relationships between variables.\n",
    "2. Build a predictive model to estimate whether a project will be successful (on time and on budget) based on its characteristics.\n",
    "3. Evaluate the model using accuracy and classification metrics.\n"
   ]
  },
  {
   "cell_type": "code",
   "execution_count": null,
   "id": "6ff49eaf",
   "metadata": {},
   "outputs": [],
   "source": [
    "import pandas as pd\n",
    "import matplotlib.pyplot as plt\n",
    "import seaborn as sns\n",
    "from sklearn.model_selection import train_test_split\n",
    "from sklearn.linear_model import LogisticRegression\n",
    "from sklearn.metrics import classification_report, accuracy_score\n",
    "\n",
    "# Set visual style\n",
    "sns.set(style='whitegrid')\n"
   ]
  },
  {
   "cell_type": "code",
   "execution_count": null,
   "id": "03c80922",
   "metadata": {},
   "outputs": [],
   "source": [
    "# Load the synthetic dataset\n",
    "data = pd.read_csv('synthetic_project_data.csv')\n",
    "\n",
    "# Display first five rows\n",
    "data.head()\n"
   ]
  },
  {
   "cell_type": "code",
   "execution_count": null,
   "id": "7009c7f8",
   "metadata": {},
   "outputs": [],
   "source": [
    "# Summary statistics\n",
    "summary = data.describe()\n",
    "print(summary)\n",
    "\n",
    "# Histogram of budget and actual cost\n",
    "plt.figure(figsize=(8,4))\n",
    "plt.hist(data['budget_k'], bins=20, alpha=0.5, label='Budget (k)')\n",
    "plt.hist(data['actual_cost_k'], bins=20, alpha=0.5, label='Actual Cost (k)')\n",
    "plt.xlabel('Amount (thousand dollars)')\n",
    "plt.ylabel('Frequency')\n",
    "plt.title('Distribution of Budget vs Actual Cost')\n",
    "plt.legend()\n",
    "plt.show()\n",
    "\n",
    "# Scatter plot: Estimated vs Actual Duration colored by success\n",
    "plt.figure(figsize=(6,5))\n",
    "sns.scatterplot(x='estimated_duration_m', y='actual_duration_m', hue='overall_success', data=data, palette='Set1')\n",
    "plt.plot([data['estimated_duration_m'].min(), data['estimated_duration_m'].max()], [data['estimated_duration_m'].min(), data['estimated_duration_m'].max()], 'k--', linewidth=1)\n",
    "plt.xlabel('Estimated Duration (months)')\n",
    "plt.ylabel('Actual Duration (months)')\n",
    "plt.title('Estimated vs Actual Duration by Overall Success')\n",
    "plt.show()\n",
    "\n",
    "# Correlation heatmap\n",
    "plt.figure(figsize=(8,6))\n",
    "corr = data.drop(columns=['project_id']).corr()\n",
    "sns.heatmap(corr, annot=True, cmap='coolwarm', fmt='.2f')\n",
    "plt.title('Correlation Heatmap')\n",
    "plt.show()\n"
   ]
  },
  {
   "cell_type": "code",
   "execution_count": null,
   "id": "d85cd13c",
   "metadata": {},
   "outputs": [],
   "source": [
    "# Prepare features (X) and target (y)\n",
    "features = ['budget_k', 'estimated_duration_m', 'team_size', 'complexity']\n",
    "X = data[features]\n",
    "y = data['overall_success']\n",
    "\n",
    "# Split into training and test sets\n",
    "X_train, X_test, y_train, y_test = train_test_split(X, y, test_size=0.2, random_state=42)\n",
    "\n",
    "# Initialize and train logistic regression model\n",
    "model = LogisticRegression(max_iter=1000)\n",
    "model.fit(X_train, y_train)\n",
    "\n",
    "# Predict on test set\n",
    "y_pred = model.predict(X_test)\n",
    "\n",
    "# Evaluate the model\n",
    "acc = accuracy_score(y_test, y_pred)\n",
    "report = classification_report(y_test, y_pred, target_names=['Fail','Success'])\n",
    "print(f'Accuracy: {acc:.2f}')\n",
    "print('Classification Report:\n', report)\n"
   ]
  }
 ],
 "metadata": {},
 "nbformat": 4,
 "nbformat_minor": 5
}
